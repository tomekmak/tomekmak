{
  "nbformat": 4,
  "nbformat_minor": 0,
  "metadata": {
    "colab": {
      "provenance": [],
      "toc_visible": true,
      "include_colab_link": true
    },
    "kernelspec": {
      "name": "python3",
      "display_name": "Python 3"
    },
    "language_info": {
      "name": "python"
    }
  },
  "cells": [
    {
      "cell_type": "markdown",
      "metadata": {
        "id": "view-in-github",
        "colab_type": "text"
      },
      "source": [
        "<a href=\"https://colab.research.google.com/github/tomekmak/tomekmak/blob/main/Kopia_notatnika_kwolk_01042023080136_Analiza_Danych_01_stud.ipynb\" target=\"_parent\"><img src=\"https://colab.research.google.com/assets/colab-badge.svg\" alt=\"Open In Colab\"/></a>"
      ]
    },
    {
      "cell_type": "markdown",
      "source": [
        "# 📁 Kurs Python 3: Wprowadzenie (1/7)"
      ],
      "metadata": {
        "id": "W-rF77Kcl9oO"
      }
    },
    {
      "cell_type": "markdown",
      "source": [
        "## 📖 Czym jest Python"
      ],
      "metadata": {
        "id": "RgIytqSNmFBo"
      }
    },
    {
      "cell_type": "markdown",
      "source": [
        "Python jest **wysokopoziomowym językiem programowania**. Oznacza to, że jego składnia w odróżnieniu od języków niskopoziomowych operuje na zwiększonym poziomie abstrakcji, przyczyniając się do ułatwienia rozumienia kodu przez programistów.\n",
        "\n",
        "- Przykładowy program wylistowujący liczby od 1 do 9 w języku wysokopoziomowym (Python):\n",
        "```python\n",
        "  for i in range(0,9):\n",
        "    print(i, end='')\n",
        "```\n",
        "\n",
        "- Przykładowy program wylistowujący liczby od 1 do 9 w języku niskopoziomowym (Assembly):\n",
        "```assembly\n",
        "  section\t.text\n",
        "    global _start\n",
        "    \n",
        "  _start:\t                \n",
        "    mov ecx,10\n",
        "    mov eax, '1'\n",
        "    \n",
        "  l1:\n",
        "    mov [num], eax\n",
        "    mov eax, 4\n",
        "    mov ebx, 1\n",
        "    push ecx\n",
        "    \n",
        "    mov ecx, num        \n",
        "    mov edx, 1        \n",
        "    int 0x80\n",
        "    \n",
        "    mov eax, [num]\n",
        "    sub eax, '0'\n",
        "    inc eax\n",
        "    add eax, '0'\n",
        "    pop ecx\n",
        "    loop l1\n",
        "    \n",
        "    mov eax,1\n",
        "    int 0x80\n",
        "  section\t.bss\n",
        "  num resb 1\n",
        "```\n",
        "\n"
      ],
      "metadata": {
        "id": "XgwWB6qZnDJY"
      }
    },
    {
      "cell_type": "markdown",
      "source": [
        "Języki programowania dzielą się także na języki **interpretowane** i **kompilowane**.\n",
        "\n",
        "Aby uzyskać działający program z wykorzystaniem **języków kompilowanych**, kod najpierw musi zostać skompilowany do postaci binarnej. Kompilacja jest zazwyczaj procesem przeznaczonym dla konkretnej architektury komputera.\n",
        "\n",
        "**Języki interpretowane** nie wymagają kompilacji. Programy mogą być przechowywane jako kody źródłowe a każde ich uruchomienie jest interpretowane i wykonywane przez interpreter. W odróżnieniu od programów napisanych z wykorzystaniem kompilatora, programy interpretowane zazwyczaj są zgodne z wieloma systemami operacyjnymi oraz architekturami komputera.\n",
        "\n",
        "Python jest językiem **interpretowanym**."
      ],
      "metadata": {
        "id": "D5DP2w7iqW2d"
      }
    },
    {
      "cell_type": "markdown",
      "source": [
        "### Zastosowanie języka Python\n",
        "- tworzenia aplikacji webowych oraz desktopowych\n",
        "- tworzenie rozwiązań opartych na działaniach matematycznych\n",
        "- najczęściej wybierany język do tworzenia rozwiązań z zakresu sztucznej inteligencji oraz przetwarzania danych\n",
        "- tworzenie skryptów systemowych "
      ],
      "metadata": {
        "id": "wmNNRB5TczJG"
      }
    },
    {
      "cell_type": "markdown",
      "source": [
        "## ⚙️ Przygotowanie środowiska\n",
        "\n",
        "1.   Element listy\n",
        "2.   Element listy\n",
        "\n"
      ],
      "metadata": {
        "id": "l5d6Z01OmJWg"
      }
    },
    {
      "cell_type": "markdown",
      "source": [
        "W ramach zajęć będziemy korzystać z Pythona w wersji 3.7.12 na Google Colab. Platforma wykorzystuje notebook, pozwalający na osobne wykonywanie części kodu poprzez umożliwienie podziału kodu na komórki. \n",
        "\n",
        "W komórkach możemy także wywoływać komendy systemowe dzięki poprzedzeniu linijki wykrzyknikiem. Poniższy przykład wykorzystuje komendę python umożliwiającą bezpośrednie korzystanie z interpretera.\n"
      ],
      "metadata": {
        "id": "xvJNbTy5TWYS"
      }
    },
    {
      "cell_type": "code",
      "source": [
        "# Wyświetlanie zainstalowanej wersji python\n",
        "!python --version"
      ],
      "metadata": {
        "colab": {
          "base_uri": "https://localhost:8080/"
        },
        "id": "Untr1_ownnWc",
        "outputId": "b0ad75b2-e084-491b-9c16-99d911c58613"
      },
      "execution_count": null,
      "outputs": [
        {
          "output_type": "stream",
          "name": "stdout",
          "text": [
            "Python 3.9.16\n"
          ]
        }
      ]
    },
    {
      "cell_type": "markdown",
      "source": [
        "Platforma Google Colab posiada sporą ilość pre-installowanych paczek z których będziemy korzystać podczas zajęć. Do zarządzania paczkami będziemy wykorzystać standardowy menadżer paczek [Pip](https://pypi.org/project/pip/)."
      ],
      "metadata": {
        "id": "vNn-Ja3KUxHQ"
      }
    },
    {
      "cell_type": "code",
      "source": [
        "# Wyświetlanie zainstalowanych paczek\n",
        "!pip list"
      ],
      "metadata": {
        "colab": {
          "base_uri": "https://localhost:8080/"
        },
        "id": "P2xnGqu6UwMa",
        "outputId": "ed31db38-c8b9-47d7-fd28-7bbb664c2dbc"
      },
      "execution_count": null,
      "outputs": [
        {
          "output_type": "stream",
          "name": "stdout",
          "text": [
            "Package                       Version\n",
            "----------------------------- --------------------\n",
            "absl-py                       1.4.0\n",
            "alabaster                     0.7.13\n",
            "albumentations                1.2.1\n",
            "altair                        4.2.2\n",
            "appdirs                       1.4.4\n",
            "argon2-cffi                   21.3.0\n",
            "argon2-cffi-bindings          21.2.0\n",
            "arviz                         0.15.1\n",
            "astropy                       5.2.1\n",
            "astunparse                    1.6.3\n",
            "attrs                         22.2.0\n",
            "audioread                     3.0.0\n",
            "autograd                      1.5\n",
            "Babel                         2.12.1\n",
            "backcall                      0.2.0\n",
            "beautifulsoup4                4.11.2\n",
            "bleach                        6.0.0\n",
            "blis                          0.7.9\n",
            "bokeh                         2.4.3\n",
            "branca                        0.6.0\n",
            "CacheControl                  0.12.11\n",
            "cached-property               1.5.2\n",
            "cachetools                    5.3.0\n",
            "catalogue                     2.0.8\n",
            "certifi                       2022.12.7\n",
            "cffi                          1.15.1\n",
            "chardet                       4.0.0\n",
            "charset-normalizer            2.0.12\n",
            "chex                          0.1.7\n",
            "click                         8.1.3\n",
            "cloudpickle                   2.2.1\n",
            "cmake                         3.25.2\n",
            "cmdstanpy                     1.1.0\n",
            "colorcet                      3.0.1\n",
            "colorlover                    0.3.0\n",
            "community                     1.0.0b1\n",
            "confection                    0.0.4\n",
            "cons                          0.4.5\n",
            "contextlib2                   0.6.0.post1\n",
            "contourpy                     1.0.7\n",
            "convertdate                   2.4.0\n",
            "cryptography                  40.0.1\n",
            "cufflinks                     0.17.3\n",
            "cvxopt                        1.3.0\n",
            "cvxpy                         1.3.1\n",
            "cycler                        0.11.0\n",
            "cymem                         2.0.7\n",
            "Cython                        0.29.33\n",
            "dask                          2022.12.1\n",
            "datascience                   0.17.6\n",
            "db-dtypes                     1.0.5\n",
            "dbus-python                   1.2.16\n",
            "debugpy                       1.6.6\n",
            "decorator                     4.4.2\n",
            "defusedxml                    0.7.1\n",
            "distributed                   2022.12.1\n",
            "dlib                          19.24.1\n",
            "dm-tree                       0.1.8\n",
            "docutils                      0.16\n",
            "dopamine-rl                   4.0.6\n",
            "earthengine-api               0.1.346\n",
            "easydict                      1.10\n",
            "ecos                          2.0.12\n",
            "editdistance                  0.6.2\n",
            "en-core-web-sm                3.5.0\n",
            "entrypoints                   0.4\n",
            "ephem                         4.1.4\n",
            "et-xmlfile                    1.1.0\n",
            "etils                         1.1.1\n",
            "etuples                       0.3.8\n",
            "exceptiongroup                1.1.1\n",
            "fastai                        2.7.12\n",
            "fastcore                      1.5.29\n",
            "fastdownload                  0.0.7\n",
            "fastjsonschema                2.16.3\n",
            "fastprogress                  1.0.3\n",
            "fastrlock                     0.8.1\n",
            "filelock                      3.10.7\n",
            "firebase-admin                5.3.0\n",
            "Flask                         2.2.3\n",
            "flatbuffers                   23.3.3\n",
            "flax                          0.6.8\n",
            "folium                        0.14.0\n",
            "fonttools                     4.39.3\n",
            "frozendict                    2.3.6\n",
            "fsspec                        2023.3.0\n",
            "future                        0.18.3\n",
            "gast                          0.4.0\n",
            "GDAL                          3.3.2\n",
            "gdown                         4.6.6\n",
            "gensim                        4.3.1\n",
            "geographiclib                 2.0\n",
            "geopy                         2.3.0\n",
            "gin-config                    0.5.0\n",
            "glob2                         0.7\n",
            "google                        2.0.3\n",
            "google-api-core               2.11.0\n",
            "google-api-python-client      2.70.0\n",
            "google-auth                   2.17.0\n",
            "google-auth-httplib2          0.1.0\n",
            "google-auth-oauthlib          0.4.6\n",
            "google-cloud-bigquery         3.4.2\n",
            "google-cloud-bigquery-storage 2.19.1\n",
            "google-cloud-core             2.3.2\n",
            "google-cloud-datastore        2.11.1\n",
            "google-cloud-firestore        2.7.3\n",
            "google-cloud-language         2.6.1\n",
            "google-cloud-storage          2.7.0\n",
            "google-cloud-translate        3.8.4\n",
            "google-colab                  1.0.0\n",
            "google-crc32c                 1.5.0\n",
            "google-pasta                  0.2.0\n",
            "google-resumable-media        2.4.1\n",
            "googleapis-common-protos      1.59.0\n",
            "googledrivedownloader         0.4\n",
            "graphviz                      0.20.1\n",
            "greenlet                      2.0.2\n",
            "grpcio                        1.53.0\n",
            "grpcio-status                 1.48.2\n",
            "gspread                       3.4.2\n",
            "gspread-dataframe             3.0.8\n",
            "gym                           0.25.2\n",
            "gym-notices                   0.0.8\n",
            "h5netcdf                      1.1.0\n",
            "h5py                          3.8.0\n",
            "HeapDict                      1.0.1\n",
            "hijri-converter               2.2.4\n",
            "holidays                      0.21.13\n",
            "holoviews                     1.15.4\n",
            "html5lib                      1.1\n",
            "htmlmin                       0.1.12\n",
            "httpimport                    1.3.0\n",
            "httplib2                      0.21.0\n",
            "humanize                      4.6.0\n",
            "hyperopt                      0.2.7\n",
            "idna                          3.4\n",
            "ImageHash                     4.3.1\n",
            "imageio                       2.25.1\n",
            "imageio-ffmpeg                0.4.8\n",
            "imagesize                     1.4.1\n",
            "imbalanced-learn              0.10.1\n",
            "imgaug                        0.4.0\n",
            "importlib-metadata            6.1.0\n",
            "importlib-resources           5.12.0\n",
            "imutils                       0.5.4\n",
            "inflect                       6.0.2\n",
            "iniconfig                     2.0.0\n",
            "intel-openmp                  2023.0.0\n",
            "ipykernel                     5.5.6\n",
            "ipython                       7.34.0\n",
            "ipython-genutils              0.2.0\n",
            "ipython-sql                   0.4.1\n",
            "ipywidgets                    7.7.1\n",
            "itsdangerous                  2.1.2\n",
            "jax                           0.4.7\n",
            "jaxlib                        0.4.7+cuda11.cudnn86\n",
            "jieba                         0.42.1\n",
            "Jinja2                        3.1.2\n",
            "joblib                        1.1.1\n",
            "jsonpickle                    3.0.1\n",
            "jsonschema                    4.3.3\n",
            "jupyter-client                6.1.12\n",
            "jupyter-console               6.1.0\n",
            "jupyter_core                  5.3.0\n",
            "jupyterlab-pygments           0.2.2\n",
            "jupyterlab-widgets            3.0.7\n",
            "kaggle                        1.5.13\n",
            "keras                         2.12.0\n",
            "keras-vis                     0.4.1\n",
            "kiwisolver                    1.4.4\n",
            "korean-lunar-calendar         0.3.1\n",
            "langcodes                     3.3.0\n",
            "lazy_loader                   0.2\n",
            "libclang                      16.0.0\n",
            "librosa                       0.10.0.post2\n",
            "lightgbm                      3.3.5\n",
            "llvmlite                      0.39.1\n",
            "locket                        1.0.0\n",
            "logical-unification           0.4.5\n",
            "LunarCalendar                 0.0.9\n",
            "lxml                          4.9.2\n",
            "Markdown                      3.4.3\n",
            "markdown-it-py                2.2.0\n",
            "MarkupSafe                    2.1.2\n",
            "matplotlib                    3.7.1\n",
            "matplotlib-inline             0.1.6\n",
            "matplotlib-venn               0.11.9\n",
            "mdurl                         0.1.2\n",
            "miniKanren                    1.0.3\n",
            "missingno                     0.5.2\n",
            "mistune                       0.8.4\n",
            "mizani                        0.8.1\n",
            "mkl                           2019.0\n",
            "ml-dtypes                     0.0.4\n",
            "mlxtend                       0.14.0\n",
            "more-itertools                9.1.0\n",
            "moviepy                       1.0.3\n",
            "mpmath                        1.3.0\n",
            "msgpack                       1.0.5\n",
            "multimethod                   1.9.1\n",
            "multipledispatch              0.6.0\n",
            "multitasking                  0.0.11\n",
            "murmurhash                    1.0.9\n",
            "music21                       8.1.0\n",
            "natsort                       8.3.1\n",
            "nbclient                      0.7.2\n",
            "nbconvert                     6.5.4\n",
            "nbformat                      5.8.0\n",
            "nest-asyncio                  1.5.6\n",
            "networkx                      3.0\n",
            "nibabel                       3.0.2\n",
            "nltk                          3.8.1\n",
            "notebook                      6.3.0\n",
            "numba                         0.56.4\n",
            "numexpr                       2.8.4\n",
            "numpy                         1.22.4\n",
            "oauth2client                  4.1.3\n",
            "oauthlib                      3.2.2\n",
            "opencv-contrib-python         4.7.0.72\n",
            "opencv-python                 4.7.0.72\n",
            "opencv-python-headless        4.7.0.72\n",
            "openpyxl                      3.0.10\n",
            "opt-einsum                    3.3.0\n",
            "optax                         0.1.4\n",
            "orbax                         0.1.6\n",
            "osqp                          0.6.2.post0\n",
            "packaging                     23.0\n",
            "palettable                    3.3.0\n",
            "pandas                        1.4.4\n",
            "pandas-datareader             0.10.0\n",
            "pandas-gbq                    0.17.9\n",
            "pandas-profiling              3.2.0\n",
            "pandocfilters                 1.5.0\n",
            "panel                         0.14.4\n",
            "param                         1.13.0\n",
            "parso                         0.8.3\n",
            "partd                         1.3.0\n",
            "pathlib                       1.0.1\n",
            "pathy                         0.10.1\n",
            "patsy                         0.5.3\n",
            "pep517                        0.13.0\n",
            "pexpect                       4.8.0\n",
            "phik                          0.12.3\n",
            "pickleshare                   0.7.5\n",
            "Pillow                        8.4.0\n",
            "pip                           22.0.4\n",
            "pip-tools                     6.6.2\n",
            "platformdirs                  3.2.0\n",
            "plotly                        5.13.1\n",
            "plotnine                      0.10.1\n",
            "pluggy                        1.0.0\n",
            "pooch                         1.6.0\n",
            "portpicker                    1.3.9\n",
            "prefetch-generator            1.0.3\n",
            "preshed                       3.0.8\n",
            "prettytable                   0.7.2\n",
            "proglog                       0.1.10\n",
            "progressbar2                  4.2.0\n",
            "prometheus-client             0.16.0\n",
            "promise                       2.3\n",
            "prompt-toolkit                3.0.38\n",
            "prophet                       1.1.2\n",
            "proto-plus                    1.22.2\n",
            "protobuf                      3.20.3\n",
            "psutil                        5.9.4\n",
            "psycopg2                      2.9.5\n",
            "ptyprocess                    0.7.0\n",
            "py4j                          0.10.9.7\n",
            "pyarrow                       9.0.0\n",
            "pyasn1                        0.4.8\n",
            "pyasn1-modules                0.2.8\n",
            "pycocotools                   2.0.6\n",
            "pycparser                     2.21\n",
            "pyct                          0.5.0\n",
            "pydantic                      1.10.7\n",
            "pydata-google-auth            1.7.0\n",
            "pydot                         1.4.2\n",
            "pydot-ng                      2.0.0\n",
            "pydotplus                     2.0.2\n",
            "PyDrive                       1.3.1\n",
            "pyerfa                        2.0.0.3\n",
            "pygame                        2.3.0\n",
            "Pygments                      2.14.0\n",
            "PyGObject                     3.36.0\n",
            "pymc                          5.1.2\n",
            "PyMeeus                       0.5.12\n",
            "pymystem3                     0.2.0\n",
            "PyOpenGL                      3.1.6\n",
            "pyparsing                     3.0.9\n",
            "pyrsistent                    0.19.3\n",
            "PySocks                       1.7.1\n",
            "pytensor                      2.10.1\n",
            "pytest                        7.2.2\n",
            "python-apt                    0.0.0\n",
            "python-dateutil               2.8.2\n",
            "python-louvain                0.16\n",
            "python-slugify                8.0.1\n",
            "python-utils                  3.5.2\n",
            "pytz                          2022.7.1\n",
            "pytz-deprecation-shim         0.1.0.post0\n",
            "pyviz-comms                   2.2.1\n",
            "PyWavelets                    1.4.1\n",
            "PyYAML                        6.0\n",
            "pyzmq                         23.2.1\n",
            "qdldl                         0.1.5.post3\n",
            "qudida                        0.0.4\n",
            "regex                         2022.10.31\n",
            "requests                      2.27.1\n",
            "requests-oauthlib             1.3.1\n",
            "requests-unixsocket           0.2.0\n",
            "rich                          13.3.3\n",
            "rpy2                          3.5.5\n",
            "rsa                           4.9\n",
            "scikit-image                  0.19.3\n",
            "scikit-learn                  1.2.2\n",
            "scipy                         1.10.1\n",
            "screen-resolution-extra       0.0.0\n",
            "scs                           3.2.2\n",
            "seaborn                       0.12.2\n",
            "Send2Trash                    1.8.0\n",
            "setuptools                    67.6.1\n",
            "shapely                       2.0.1\n",
            "six                           1.16.0\n",
            "sklearn-pandas                2.2.0\n",
            "smart-open                    6.3.0\n",
            "snowballstemmer               2.2.0\n",
            "sortedcontainers              2.4.0\n",
            "soundfile                     0.12.1\n",
            "soupsieve                     2.4\n",
            "soxr                          0.3.4\n",
            "spacy                         3.5.1\n",
            "spacy-legacy                  3.0.12\n",
            "spacy-loggers                 1.0.4\n",
            "Sphinx                        3.5.4\n",
            "sphinxcontrib-applehelp       1.0.4\n",
            "sphinxcontrib-devhelp         1.0.2\n",
            "sphinxcontrib-htmlhelp        2.0.1\n",
            "sphinxcontrib-jsmath          1.0.1\n",
            "sphinxcontrib-qthelp          1.0.3\n",
            "sphinxcontrib-serializinghtml 1.1.5\n",
            "SQLAlchemy                    1.4.47\n",
            "sqlparse                      0.4.3\n",
            "srsly                         2.4.6\n",
            "statsmodels                   0.13.5\n",
            "sympy                         1.11.1\n",
            "tables                        3.7.0\n",
            "tabulate                      0.8.10\n",
            "tangled-up-in-unicode         0.2.0\n",
            "tblib                         1.7.0\n",
            "tenacity                      8.2.2\n",
            "tensorboard                   2.12.0\n",
            "tensorboard-data-server       0.7.0\n",
            "tensorboard-plugin-wit        1.8.1\n",
            "tensorflow                    2.12.0\n",
            "tensorflow-datasets           4.8.3\n",
            "tensorflow-estimator          2.12.0\n",
            "tensorflow-gcs-config         2.12.0\n",
            "tensorflow-hub                0.13.0\n",
            "tensorflow-io-gcs-filesystem  0.32.0\n",
            "tensorflow-metadata           1.12.0\n",
            "tensorflow-probability        0.19.0\n",
            "tensorstore                   0.1.35\n",
            "termcolor                     2.2.0\n",
            "terminado                     0.17.1\n",
            "text-unidecode                1.3\n",
            "textblob                      0.17.1\n",
            "tf-slim                       1.1.0\n",
            "thinc                         8.1.9\n",
            "threadpoolctl                 3.1.0\n",
            "tifffile                      2023.3.21\n",
            "tinycss2                      1.2.1\n",
            "toml                          0.10.2\n",
            "tomli                         2.0.1\n",
            "toolz                         0.12.0\n",
            "torch                         1.13.1+cu116\n",
            "torchaudio                    0.13.1+cu116\n",
            "torchsummary                  1.5.1\n",
            "torchtext                     0.14.1\n",
            "torchvision                   0.14.1+cu116\n",
            "tornado                       6.2\n",
            "tqdm                          4.65.0\n",
            "traitlets                     5.7.1\n",
            "tweepy                        4.13.0\n",
            "typer                         0.7.0\n",
            "typing_extensions             4.5.0\n",
            "tzdata                        2023.3\n",
            "tzlocal                       4.3\n",
            "uritemplate                   4.1.1\n",
            "urllib3                       1.26.15\n",
            "vega-datasets                 0.9.0\n",
            "visions                       0.7.4\n",
            "wasabi                        1.1.1\n",
            "wcwidth                       0.2.6\n",
            "webcolors                     1.13\n",
            "webencodings                  0.5.1\n",
            "Werkzeug                      2.2.3\n",
            "wheel                         0.40.0\n",
            "widgetsnbextension            3.6.4\n",
            "wordcloud                     1.8.2.2\n",
            "wrapt                         1.14.1\n",
            "xarray                        2022.12.0\n",
            "xarray-einstats               0.5.1\n",
            "xgboost                       1.7.4\n",
            "xkit                          0.0.0\n",
            "xlrd                          2.0.1\n",
            "yellowbrick                   1.5\n",
            "yfinance                      0.2.14\n",
            "zict                          2.2.0\n",
            "zipp                          3.15.0\n"
          ]
        }
      ]
    },
    {
      "cell_type": "code",
      "source": [
        "# Instalacja pakietów (format nazwa_paczki==numer_wersji)\n",
        "!pip install spacy==2.3.0"
      ],
      "metadata": {
        "colab": {
          "base_uri": "https://localhost:8080/"
        },
        "id": "ajl3davRapdx",
        "outputId": "cbbd66db-b3b4-4bf5-ffcf-ed244cebdbc7"
      },
      "execution_count": null,
      "outputs": [
        {
          "output_type": "stream",
          "name": "stdout",
          "text": [
            "Collecting spacy==2.3.0\n",
            "  Downloading spacy-2.3.0-cp37-cp37m-manylinux1_x86_64.whl (10.0 MB)\n",
            "\u001b[K     |████████████████████████████████| 10.0 MB 19.6 MB/s \n",
            "\u001b[?25hRequirement already satisfied: wasabi<1.1.0,>=0.4.0 in /usr/local/lib/python3.7/dist-packages (from spacy==2.3.0) (0.9.0)\n",
            "Requirement already satisfied: preshed<3.1.0,>=3.0.2 in /usr/local/lib/python3.7/dist-packages (from spacy==2.3.0) (3.0.6)\n",
            "Requirement already satisfied: catalogue<1.1.0,>=0.0.7 in /usr/local/lib/python3.7/dist-packages (from spacy==2.3.0) (1.0.0)\n",
            "Collecting thinc==7.4.1\n",
            "  Downloading thinc-7.4.1-cp37-cp37m-manylinux1_x86_64.whl (2.1 MB)\n",
            "\u001b[K     |████████████████████████████████| 2.1 MB 16.9 MB/s \n",
            "\u001b[?25hRequirement already satisfied: requests<3.0.0,>=2.13.0 in /usr/local/lib/python3.7/dist-packages (from spacy==2.3.0) (2.23.0)\n",
            "Requirement already satisfied: srsly<1.1.0,>=1.0.2 in /usr/local/lib/python3.7/dist-packages (from spacy==2.3.0) (1.0.5)\n",
            "Requirement already satisfied: murmurhash<1.1.0,>=0.28.0 in /usr/local/lib/python3.7/dist-packages (from spacy==2.3.0) (1.0.6)\n",
            "Requirement already satisfied: tqdm<5.0.0,>=4.38.0 in /usr/local/lib/python3.7/dist-packages (from spacy==2.3.0) (4.62.3)\n",
            "Requirement already satisfied: blis<0.5.0,>=0.4.0 in /usr/local/lib/python3.7/dist-packages (from spacy==2.3.0) (0.4.1)\n",
            "Requirement already satisfied: numpy>=1.15.0 in /usr/local/lib/python3.7/dist-packages (from spacy==2.3.0) (1.21.5)\n",
            "Requirement already satisfied: setuptools in /usr/local/lib/python3.7/dist-packages (from spacy==2.3.0) (57.4.0)\n",
            "Requirement already satisfied: cymem<2.1.0,>=2.0.2 in /usr/local/lib/python3.7/dist-packages (from spacy==2.3.0) (2.0.6)\n",
            "Requirement already satisfied: plac<1.2.0,>=0.9.6 in /usr/local/lib/python3.7/dist-packages (from spacy==2.3.0) (1.1.3)\n",
            "Requirement already satisfied: importlib-metadata>=0.20 in /usr/local/lib/python3.7/dist-packages (from catalogue<1.1.0,>=0.0.7->spacy==2.3.0) (4.11.1)\n",
            "Requirement already satisfied: typing-extensions>=3.6.4 in /usr/local/lib/python3.7/dist-packages (from importlib-metadata>=0.20->catalogue<1.1.0,>=0.0.7->spacy==2.3.0) (3.10.0.2)\n",
            "Requirement already satisfied: zipp>=0.5 in /usr/local/lib/python3.7/dist-packages (from importlib-metadata>=0.20->catalogue<1.1.0,>=0.0.7->spacy==2.3.0) (3.7.0)\n",
            "Requirement already satisfied: idna<3,>=2.5 in /usr/local/lib/python3.7/dist-packages (from requests<3.0.0,>=2.13.0->spacy==2.3.0) (2.10)\n",
            "Requirement already satisfied: chardet<4,>=3.0.2 in /usr/local/lib/python3.7/dist-packages (from requests<3.0.0,>=2.13.0->spacy==2.3.0) (3.0.4)\n",
            "Requirement already satisfied: urllib3!=1.25.0,!=1.25.1,<1.26,>=1.21.1 in /usr/local/lib/python3.7/dist-packages (from requests<3.0.0,>=2.13.0->spacy==2.3.0) (1.24.3)\n",
            "Requirement already satisfied: certifi>=2017.4.17 in /usr/local/lib/python3.7/dist-packages (from requests<3.0.0,>=2.13.0->spacy==2.3.0) (2021.10.8)\n",
            "Installing collected packages: thinc, spacy\n",
            "  Attempting uninstall: thinc\n",
            "    Found existing installation: thinc 7.4.0\n",
            "    Uninstalling thinc-7.4.0:\n",
            "      Successfully uninstalled thinc-7.4.0\n",
            "  Attempting uninstall: spacy\n",
            "    Found existing installation: spacy 2.2.4\n",
            "    Uninstalling spacy-2.2.4:\n",
            "      Successfully uninstalled spacy-2.2.4\n",
            "Successfully installed spacy-2.3.0 thinc-7.4.1\n"
          ]
        }
      ]
    },
    {
      "cell_type": "markdown",
      "source": [
        "## 🐣 Podstawy języka Python"
      ],
      "metadata": {
        "id": "7z7qQYICxf8P"
      }
    },
    {
      "cell_type": "markdown",
      "source": [
        "### 🎒 Podstawowe typy danych"
      ],
      "metadata": {
        "id": "naiNONZ1eMPW"
      }
    },
    {
      "cell_type": "markdown",
      "source": [
        "Zmienne w kodzie można postrzegać jako kontener na dane o danym typie.\n",
        "\n",
        "Do podstawowych typów zmiennych można zaliczyć między innymi:\n",
        "- string (ciąg znaków np. \"witaj świecie\")\n",
        "- int (liczby całkowite ze znakiem np. 10)\n",
        "- long (długie int, mogące być również reprezentowane w systemie ósemkowym i szestnastkowym np. -0x19323L, 20)\n",
        "- float (liczby rzeczywiste np. 12.53)\n",
        "- complex (liczby zespolone)\n",
        "- bool (typ logiczny zwracające wartości prawda lub fałsz)\n"
      ],
      "metadata": {
        "id": "1DZNOiHdebCu"
      }
    },
    {
      "cell_type": "markdown",
      "source": [
        "Python jest językiem zarówno **dynamicznie typowanym** jak i **silnie typowanym.**\n",
        "\n",
        "Dynamiczne typowanie sprawia, że typ zmiennej jest określony dopiero w czasie wykonywania programu a ta sama zmienna może mieć różny typ w różnych momentach wykonywania operacji. "
      ],
      "metadata": {
        "id": "_x7KjosZdf6n"
      }
    },
    {
      "cell_type": "code",
      "source": [
        "# Tekst poprzedzony znakiem \"#\" jest traktowany jako komentarz i nie wpływa na wynik programu \n",
        "\n",
        "# Funkcja print() pozwala wyświetlić daną zmienną\n",
        "print(\"Witaj świecie\")\n",
        "\n",
        "# Stworzenie zmiennej x typu string\n",
        "x = \"Witaj świecie\"\n",
        "\n",
        "# Funkcja type() zwraca nam typ danej zmiennej\n",
        "print(type(x))\n",
        "\n",
        "# Wykorzystanie dynamicznego typowania, zmiana typu zmiennej x na int\n",
        "x = 20\n",
        "print(x)\n",
        "print(type(x))"
      ],
      "metadata": {
        "colab": {
          "base_uri": "https://localhost:8080/"
        },
        "id": "1O61_1VdeLI3",
        "outputId": "44c26a34-e59b-4d4f-a418-fe64699acce7"
      },
      "execution_count": null,
      "outputs": [
        {
          "output_type": "stream",
          "name": "stdout",
          "text": [
            "Witaj świecie\n",
            "<class 'str'>\n",
            "20\n",
            "<class 'int'>\n"
          ]
        }
      ]
    },
    {
      "cell_type": "code",
      "source": [
        "x = 20\n",
        "print(type(x))\n",
        "\n",
        "# Przykład konwersji typu (inaczej zmiany typu, rzutowania)\n",
        "x = str(x)\n",
        "\n",
        "print(type(x))\n",
        "print(x)"
      ],
      "metadata": {
        "colab": {
          "base_uri": "https://localhost:8080/"
        },
        "id": "YYRgRivvktxz",
        "outputId": "f1dfe40f-d57c-4709-b7be-bd8f0b1d3285"
      },
      "execution_count": null,
      "outputs": [
        {
          "output_type": "stream",
          "name": "stdout",
          "text": [
            "<class 'int'>\n",
            "<class 'str'>\n",
            "20\n"
          ]
        }
      ]
    },
    {
      "cell_type": "markdown",
      "source": [
        "Silne typowanie sprawia, że każda zmienna ma swój typ, który ma znaczenie przy wykonywaniu operacji na zmiennych. Typy w Pythonie muszą być zgodne z operandami, czyli np. ```int``` i ```float``` mogą być ze sobą dodane, ale dodanie zmiennej typu ```int``` do zmiennej typu ```string``` spowoduje wywołanie błędu."
      ],
      "metadata": {
        "id": "1VAEGkidh1Do"
      }
    },
    {
      "cell_type": "code",
      "source": [
        "# Podwójne przypisanie, zarówno x i z będą miały wartość 20\n",
        "x = z  = 20\n",
        "\n",
        "y = 20.5\n",
        "\n",
        "print(type(x))\n",
        "print(type(y))\n",
        "print(type(z))\n",
        "\n",
        "# Dodanie ze sobą typu float i int\n",
        "result = x + y + z\n",
        "\n",
        "# Poniższe działanie wywołałoby błąd:\n",
        "# result = x + \"witaj świecie\"\n",
        "\n",
        "print(result)"
      ],
      "metadata": {
        "colab": {
          "base_uri": "https://localhost:8080/"
        },
        "id": "8d4AuWB3h0Sr",
        "outputId": "340d3202-9269-4996-ec77-13918616c82f"
      },
      "execution_count": null,
      "outputs": [
        {
          "output_type": "stream",
          "name": "stdout",
          "text": [
            "<class 'int'>\n",
            "<class 'float'>\n",
            "<class 'int'>\n",
            "60.5\n"
          ]
        }
      ]
    },
    {
      "cell_type": "markdown",
      "source": [
        "\n",
        "\n",
        "```\n",
        "# Sformatowano jako kod\n",
        "```\n",
        "\n",
        "Pobieranie danych od użytkownika podczas działania programu umożliwia nam metoda ```input()```. Jako parametry do funkcji (wartość podawana w nawiasach) możemy podać string z komunikatem który ma się pojawić."
      ],
      "metadata": {
        "id": "EalP6nb7lXrM"
      }
    },
    {
      "cell_type": "code",
      "source": [
        "# bez poprzedzenia funkcji przypisaniem \"x =\" zwrócona wartość nie zostałaby nigdzie zapisana \n",
        "x = input(\"Jak masz na imię? \")\n",
        "\n",
        "# Operacja dodawania na zmiennych typu string połączy nam je w jedno zdanie\n",
        "print(\"Witaj \" + x)"
      ],
      "metadata": {
        "colab": {
          "base_uri": "https://localhost:8080/"
        },
        "id": "W-_O3DLzlqIf",
        "outputId": "ae27a4af-1d14-4457-9c69-efd6a2eaf2bc"
      },
      "execution_count": null,
      "outputs": [
        {
          "output_type": "stream",
          "name": "stdout",
          "text": [
            "Jak masz na imię? Jan\n",
            "Witaj Jan\n"
          ]
        }
      ]
    },
    {
      "cell_type": "markdown",
      "source": [
        "W celu ułatwienia formatowania zmiennych typu string wprowadzono mechanizm popularnie znany jako F-string. \n",
        "\n",
        "Aby utworzyć f-string należy poprzedzić cudzysłów literą 'f'. Po otrzymaniu f-string możemy używać zmiennych w nawiasach klamrowych niezależnie od ich typów."
      ],
      "metadata": {
        "id": "IA5u0TdpnLR0"
      }
    },
    {
      "cell_type": "code",
      "source": [
        "x = 20\n",
        "y = f\"Przykładowy f-string z wartością x = {x}\"\n",
        "\n",
        "print(y)"
      ],
      "metadata": {
        "colab": {
          "base_uri": "https://localhost:8080/"
        },
        "id": "ai3QlNVvnEc2",
        "outputId": "300816b7-6b76-4b59-98e6-efefcf2dbdd7"
      },
      "execution_count": null,
      "outputs": [
        {
          "output_type": "stream",
          "name": "stdout",
          "text": [
            "Przykładowy f-string z wartością x = 20\n"
          ]
        }
      ]
    },
    {
      "cell_type": "markdown",
      "source": [
        "#### Przykład z podsumowaniem"
      ],
      "metadata": {
        "id": "WdhhV55CoruG"
      }
    },
    {
      "cell_type": "code",
      "source": [
        "current_year = 2022\n",
        "birth_year = input(\"W którym roku się urodziłeś? \")\n",
        "\n",
        "# Konwersja string na int\n",
        "birth_year = int(birth_year)\n",
        "age = current_year - birth_year\n",
        "\n",
        "print(f\"Masz {age} lat\")"
      ],
      "metadata": {
        "colab": {
          "base_uri": "https://localhost:8080/"
        },
        "id": "0Ywgdjr3o2Pr",
        "outputId": "c0fa384d-bdde-4d05-8acd-c072d7835123"
      },
      "execution_count": null,
      "outputs": [
        {
          "output_type": "stream",
          "name": "stdout",
          "text": [
            "W którym roku się urodziłeś? 2000\n",
            "Masz 22 lat\n"
          ]
        }
      ]
    },
    {
      "cell_type": "markdown",
      "source": [
        "### Przykładowe operacje na zmiennych"
      ],
      "metadata": {
        "id": "cz5YtatIqM-7"
      }
    },
    {
      "cell_type": "markdown",
      "source": [
        "#### Operacje na zmiennych liczbowych"
      ],
      "metadata": {
        "id": "wJ2M4A8TtThX"
      }
    },
    {
      "cell_type": "code",
      "source": [
        "# Zasady dotyczące kolejności wykonywania działań są uwzględnione\n",
        "print(2 + 2 * 2) # Wynik: 6\n",
        "\n",
        "# Modulo (wyznaczanie reszty z dzielenia, w tym przypadku z dzielenia 4 przez 2)\n",
        "print(4%2) # Wynik: 0\n",
        "\n",
        "# Dzielenie całkowite (zwykłe dzielenie wykonujemy za pomocą pojedynczego znaku /)\n",
        "print(5//2) # Wynik: 2\n",
        "\n",
        "# Potęgowanie\n",
        "print(2**3) # Wynik: 8\n",
        "\n",
        "\n",
        "# Przykładowe działanie połączone z nadpisaniem zmiennej\n",
        "x = 3\n",
        "x += 2\n",
        "print(x) # Wynik: 5"
      ],
      "metadata": {
        "colab": {
          "base_uri": "https://localhost:8080/"
        },
        "id": "cRdbiqoZsJTi",
        "outputId": "4d2a2611-e9be-4410-a2ad-f37dcb83a8ec"
      },
      "execution_count": null,
      "outputs": [
        {
          "output_type": "stream",
          "name": "stdout",
          "text": [
            "6\n",
            "0\n",
            "2\n",
            "8\n",
            "5\n"
          ]
        }
      ]
    },
    {
      "cell_type": "markdown",
      "source": [
        "#### Operacje na zmiennych typu string"
      ],
      "metadata": {
        "id": "aLcdOMJPtLKA"
      }
    },
    {
      "cell_type": "code",
      "source": [
        "hello_world = \"wItaJ ŚwIeCiE!\"\n",
        "\n",
        "# Zmiana wszystkich liter na wielkie\n",
        "print(hello_world.upper())\n",
        "\n",
        "# Zmiana wszystkich liter na małe\n",
        "print(hello_world.lower())\n",
        "hello_world = hello_world.lower()\n",
        "\n",
        "# Zamiana części tekstu (wielkość znaków ma znaczenie)\n",
        "print(hello_world.replace('witaj', 'dzień dobry'))"
      ],
      "metadata": {
        "colab": {
          "base_uri": "https://localhost:8080/"
        },
        "id": "4tYYe6DqqfpD",
        "outputId": "e325b01e-a415-4e9c-92f0-de643ac7f298"
      },
      "execution_count": null,
      "outputs": [
        {
          "output_type": "stream",
          "name": "stdout",
          "text": [
            "WITAJ ŚWIECIE!\n",
            "witaj świecie!\n",
            "dzień dobry świecie!\n"
          ]
        }
      ]
    },
    {
      "cell_type": "markdown",
      "source": [
        "#### Operacje na zmiennych typu bool"
      ],
      "metadata": {
        "id": "dmm5NzzttPbH"
      }
    },
    {
      "cell_type": "code",
      "source": [
        "# Mniejszość i większość\n",
        "x = 3 < 50\n",
        "print(x)\n",
        "\n",
        "# Równoważność\n",
        "y = 3 == 4\n",
        "print(y)\n",
        "\n",
        "# Różnowartość\n",
        "z = 3 != 4\n",
        "print(z)"
      ],
      "metadata": {
        "colab": {
          "base_uri": "https://localhost:8080/"
        },
        "id": "8i2C4lIlrolY",
        "outputId": "b7451dc1-b657-4aad-ec4f-52fc22bee952"
      },
      "execution_count": null,
      "outputs": [
        {
          "output_type": "stream",
          "name": "stdout",
          "text": [
            "True\n",
            "False\n",
            "True\n"
          ]
        }
      ]
    },
    {
      "cell_type": "markdown",
      "source": [
        "#### Operatory logiczne\n",
        "Python obsługuje szereg operatorów logicznych. Wynikowe zmienne typu bool są wykorzystywane między innymi w niżej przedstawionych instrukcjach warunkowych."
      ],
      "metadata": {
        "id": "CsJhurUMuqzS"
      }
    },
    {
      "cell_type": "code",
      "source": [
        "x = 2 \n",
        "y = 3\n",
        "z = 1\n",
        "hello_world = \"hello world\""
      ],
      "metadata": {
        "id": "9vBKax8B5SfQ"
      },
      "execution_count": null,
      "outputs": []
    },
    {
      "cell_type": "markdown",
      "source": [
        "##### Operator AND\n",
        "\n",
        "Tabela działań operatora AND: \n",
        "\n",
        "| a | b | wynik |\n",
        "| -- | -- | -- |\n",
        "| False | False | False |\n",
        "| False | True | False |\n",
        "| True | False | False |\n",
        "| True | True | True |"
      ],
      "metadata": {
        "id": "okynccbV5L01"
      }
    },
    {
      "cell_type": "code",
      "source": [
        "result = x > 1 and z != y\n",
        "print(result)"
      ],
      "metadata": {
        "colab": {
          "base_uri": "https://localhost:8080/"
        },
        "id": "u9lpb6TKunUP",
        "outputId": "54c54d46-cfd6-481d-e59b-6bc3fc0ec6f4"
      },
      "execution_count": null,
      "outputs": [
        {
          "output_type": "stream",
          "name": "stdout",
          "text": [
            "True\n"
          ]
        }
      ]
    },
    {
      "cell_type": "markdown",
      "source": [
        "##### Operator OR\n",
        "\n",
        "Tabela działań operatora OR: \n",
        "\n",
        "| a | b | wynik |\n",
        "| -- | -- | -- |\n",
        "| False | False | False |\n",
        "| False | True | True |\n",
        "| True | False | True |\n",
        "| True | True | True |"
      ],
      "metadata": {
        "id": "SQjt8p4y5Y-7"
      }
    },
    {
      "cell_type": "code",
      "source": [
        "result = x < 1 or z == y\n",
        "print(result) # False"
      ],
      "metadata": {
        "id": "nzVBUvKF5ZLL",
        "colab": {
          "base_uri": "https://localhost:8080/"
        },
        "outputId": "25971172-6207-4bce-d816-0fd51c6bb1d3"
      },
      "execution_count": null,
      "outputs": [
        {
          "output_type": "stream",
          "name": "stdout",
          "text": [
            "False\n"
          ]
        }
      ]
    },
    {
      "cell_type": "markdown",
      "source": [
        "##### Operator NOT\n",
        "\n",
        "Tabela działań operatora NOT: \n",
        "\n",
        "| a | wynik |\n",
        "| -- | -- |\n",
        "| False | True |\n",
        "| True | False |"
      ],
      "metadata": {
        "id": "bWQeb_bM5Zf4"
      }
    },
    {
      "cell_type": "code",
      "source": [
        "result = not x < 1\n",
        "print(result) # True"
      ],
      "metadata": {
        "id": "hP-kOI4X5Zvc",
        "colab": {
          "base_uri": "https://localhost:8080/"
        },
        "outputId": "8911a86f-a167-487b-b0c0-5e4ef0b8fa49"
      },
      "execution_count": null,
      "outputs": [
        {
          "output_type": "stream",
          "name": "stdout",
          "text": [
            "True\n"
          ]
        }
      ]
    },
    {
      "cell_type": "markdown",
      "source": [
        "### 🎓 Typy złożone\n",
        "Python posiada kilka złożonych typów danych, wykorzystywanych do grupowania elementów."
      ],
      "metadata": {
        "id": "LmxUZDNtEplI"
      }
    },
    {
      "cell_type": "markdown",
      "source": [
        "#### ☰ Listy\n",
        "\n",
        "Lista jest najczęściej używanym złożonym typem danych. W liście kolejność elementów jest zachowana a do jej elementów możemy odwoływać się poprzez indeksy, czyli numery wskazujące miejsce elementów na liście. Indeksy w Pythonie numerujemy od 0. \n",
        "\n",
        "Listę tworzymy za pomocą nawiasów kwadratowych.\n",
        "\n",
        "Listy mogą zawierać obiekty różnych typów (np. \\[\"ananas\", 3, 2.43\\])"
      ],
      "metadata": {
        "id": "11HvU8k4eOQZ"
      }
    },
    {
      "cell_type": "code",
      "source": [
        "# Tworzenie listy\n",
        "example_list = [\"jabłko\", \"banan\", \"jabłko\", \"gruszka\", \"marchew\", \"kiwi\"]\n",
        "\n",
        "# Wyświetlanie całej listy\n",
        "print(example_list)\n",
        "\n",
        "# Wybieranie pierwszego elementu\n",
        "print(example_list[0])\n",
        "\n",
        "# Wybieranie ostatniego elementu\n",
        "print(example_list[-1])\n",
        "\n",
        "# Wybieranie przedziału od 1 do 3\n",
        "print(example_list[1:3])\n",
        "\n",
        "# Odwracanie listy\n",
        "example_list.reverse() # alternatywnie: example_list[::-1]\n",
        "print(example_list)\n",
        "\n",
        "# Zmiana konkretnego elementu w liście\n",
        "example_list[1] = \"ananas\"\n",
        "print(example_list)"
      ],
      "metadata": {
        "colab": {
          "base_uri": "https://localhost:8080/"
        },
        "id": "DxNlN6pNGR6G",
        "outputId": "11943090-7b15-4ce1-95e7-eaa93730c02f"
      },
      "execution_count": null,
      "outputs": [
        {
          "output_type": "stream",
          "name": "stdout",
          "text": [
            "['jabłko', 'banan', 'jabłko', 'gruszka', 'marchew', 'kiwi']\n",
            "jabłko\n",
            "kiwi\n",
            "['banan', 'jabłko']\n",
            "['kiwi', 'marchew', 'gruszka', 'jabłko', 'banan', 'jabłko']\n",
            "['kiwi', 'ananas', 'gruszka', 'jabłko', 'banan', 'jabłko']\n"
          ]
        }
      ]
    },
    {
      "cell_type": "markdown",
      "source": [
        "Podobnie jak na typach prostych, na listach również możemy wykonywać różne operacje i działania\n",
        "\n",
        "> Blok z wcięciem\n",
        "\n"
      ],
      "metadata": {
        "id": "U6XQ5tPlG9QV"
      }
    },
    {
      "cell_type": "code",
      "source": [
        "# Podwajanie listy\n",
        "extended_list = example_list * 2\n",
        "print(extended_list)\n",
        "\n",
        "# Dodawanie elementu na koniec listy\n",
        "example_list.append(\"cytryna\")\n",
        "print(example_list)\n",
        "\n",
        "# Dodawanie elementu na konkretne miejsce\n",
        "example_list.insert(2, \"pomidor\")\n",
        "print(example_list)\n",
        "\n",
        "# Zliczanie wystąpenia danego elementu\n",
        "print(example_list.count('jabłko'))\n",
        "\n",
        "# Usuwanie pierwszego pasującego elementu, w przypadku braku elementu zostanie wyrzucony błąd\n",
        "example_list.remove(\"jabłko\")\n",
        "print(example_list)\n",
        "\n",
        "# Wyświetlanie długości listy\n",
        "print(len(example_list))"
      ],
      "metadata": {
        "colab": {
          "base_uri": "https://localhost:8080/"
        },
        "id": "8rx0VyufHBeR",
        "outputId": "4f91df88-da8f-4abf-92d0-b5a46b5d375e"
      },
      "execution_count": null,
      "outputs": [
        {
          "output_type": "stream",
          "name": "stdout",
          "text": [
            "['kiwi', 'ananas', 'gruszka', 'jabłko', 'banan', 'jabłko', 'kiwi', 'ananas', 'gruszka', 'jabłko', 'banan', 'jabłko']\n",
            "['kiwi', 'ananas', 'gruszka', 'jabłko', 'banan', 'jabłko', 'cytryna']\n",
            "['kiwi', 'ananas', 'pomidor', 'gruszka', 'jabłko', 'banan', 'jabłko', 'cytryna']\n",
            "2\n",
            "['kiwi', 'ananas', 'pomidor', 'gruszka', 'banan', 'jabłko', 'cytryna']\n",
            "7\n"
          ]
        }
      ]
    },
    {
      "cell_type": "code",
      "source": [
        "x = \"Hello world\"\n",
        "\n",
        "# funkcja ```split()``` dzieli string po podanym separatorze zwracając listę\n",
        "example_list = x.split()\n",
        "print(example_list)"
      ],
      "metadata": {
        "colab": {
          "base_uri": "https://localhost:8080/"
        },
        "id": "gTTQUBuRiRIE",
        "outputId": "d85690c2-d7db-4689-c2d2-2146bc08b12e"
      },
      "execution_count": null,
      "outputs": [
        {
          "output_type": "stream",
          "name": "stdout",
          "text": [
            "['Hello', 'world']\n"
          ]
        }
      ]
    },
    {
      "cell_type": "code",
      "source": [
        "# lista list intów\n",
        "example_list = [[1,2,3], [2,3,4], [3,4,5]]\n",
        "print(example_list)"
      ],
      "metadata": {
        "colab": {
          "base_uri": "https://localhost:8080/"
        },
        "id": "fBPotCnC-KWJ",
        "outputId": "9aa88b8b-8aa0-4fa5-b803-6718de517c17"
      },
      "execution_count": null,
      "outputs": [
        {
          "output_type": "stream",
          "name": "stdout",
          "text": [
            "[[1, 2, 3], [2, 3, 4], [3, 4, 5]]\n"
          ]
        }
      ]
    },
    {
      "cell_type": "markdown",
      "source": [
        "#### ❏ Krotki (tuple)\n",
        "\n",
        "Krotkę można traktować jako listę, której nie da się modyfikować. Nie można w niej usuwać, zmieniać ani dodawać elementów. Są one znacznie szybsze od list. \n",
        "\n",
        "Krotki tworzymy z pomocą nawiasów okrągłych.\n"
      ],
      "metadata": {
        "id": "UMcKg9zPEwOU"
      }
    },
    {
      "cell_type": "code",
      "source": [
        "example_tuple = (1,2,3,4,5)\n",
        "\n",
        "# Zliczanie\n",
        "print(len(example_tuple))\n",
        "\n",
        "# Zwraca czwartegy elementu z listy\n",
        "print(example_tuple[3])\n",
        "\n",
        "# Zwraca indeks pierwszej napotkanej wartości 1\n",
        "print(example_tuple.index(1))"
      ],
      "metadata": {
        "colab": {
          "base_uri": "https://localhost:8080/"
        },
        "id": "JV-3Wd4mJEBo",
        "outputId": "fa717cce-aa0c-4b41-f621-adf95255daaf"
      },
      "execution_count": null,
      "outputs": [
        {
          "output_type": "stream",
          "name": "stdout",
          "text": [
            "5\n",
            "4\n",
            "0\n"
          ]
        }
      ]
    },
    {
      "cell_type": "markdown",
      "source": [
        "#### ⚪ Zbiory\n",
        "Zbiory są nieuporządkowaną strukturą danych w której elementy nie mogą zostać modyfikowane (można natomiast usuwać oraz dodawać elementy). Sety reprezentują zbiory matematyczne. W przeciwieństwie do pozostałych struktur zostały wzbogacone o metody związane z algebrą zbiorów. W zbiorach każdy element jest unikalny.\n",
        "\n",
        "Zbiory tworzymy z wykorzystaniem nawiasów klamrowych."
      ],
      "metadata": {
        "id": "Wfe2Fpu1EzVA"
      }
    },
    {
      "cell_type": "code",
      "source": [
        "example_set = {1, 2, 2, 3, 3, 4 }\n",
        "second_set = {4, 5, 6, 7, 8 }\n",
        "print(example_set)\n",
        "\n",
        "# dodawanie elementu\n",
        "example_set.add(10)\n",
        "print(example_set)\n",
        "\n",
        "# usuwanie elementu\n",
        "example_set.remove(1)\n",
        "print(example_set)\n",
        "\n",
        "# łączenie zbiorów\n",
        "print(example_set.union(second_set))\n",
        "\n",
        "# różnica zbiorów\n",
        "print(example_set.difference(second_set))\n",
        "\n",
        "# iloczyn zbiorów (część wspólna)\n",
        "print(example_set.intersection(second_set))"
      ],
      "metadata": {
        "colab": {
          "base_uri": "https://localhost:8080/"
        },
        "id": "2-RrXHiaLl5W",
        "outputId": "01686a5a-2d09-4570-f144-02f1616efe98"
      },
      "execution_count": null,
      "outputs": [
        {
          "output_type": "stream",
          "name": "stdout",
          "text": [
            "{1, 2, 3, 4}\n",
            "{1, 2, 3, 4, 10}\n",
            "{2, 3, 4, 10}\n",
            "{2, 3, 4, 5, 6, 7, 8, 10}\n",
            "{10, 2, 3}\n",
            "{4}\n"
          ]
        }
      ]
    },
    {
      "cell_type": "markdown",
      "source": [
        "#### 📚 Słowniki\n",
        "Słowniki w odróżnieniu od pozostałych struktur składają się z par klucz-wartość, przy czym klucz zawsze musi być unikalny. Słowniki nie operują na standardowych indeksach, aby pobrać odpowiednią wartość musimy znać jej klucz.\n",
        "\n",
        "Są uporządkowane dopiero od wersji Pythona 3.7."
      ],
      "metadata": {
        "id": "aYL3_G_mEx0l"
      }
    },
    {
      "cell_type": "code",
      "source": [
        "example_dict = {\n",
        "    \"name\": \"Jan\",\n",
        "    \"surname\": \"Kowalski\",\n",
        "    \"age\": 34 \n",
        "}\n",
        "\n",
        "# Wyświetlanie wartości o danym kluczu\n",
        "print(example_dict[\"name\"])\n",
        "\n",
        "# Dodawanie wartości\n",
        "example_dict[\"hair color\"] = \"brown\"\n",
        "print(example_dict)\n",
        "\n",
        "# Nadpisywanie wartości\n",
        "print(example_dict)\n",
        "example_dict[\"name\"] = \"Adam\"\n",
        "\n",
        "# Wyświetlanie kluczy\n",
        "print(example_dict.keys())\n",
        "\n",
        "# Wyświetlanie wartości\n",
        "print(example_dict.values())"
      ],
      "metadata": {
        "colab": {
          "base_uri": "https://localhost:8080/"
        },
        "id": "-aynX9yhOrVf",
        "outputId": "bc67cce2-8fba-49a6-f541-cf89ac420069"
      },
      "execution_count": null,
      "outputs": [
        {
          "output_type": "stream",
          "name": "stdout",
          "text": [
            "Jan\n",
            "{'name': 'Jan', 'surname': 'Kowalski', 'age': 34, 'hair color': 'brown'}\n",
            "{'name': 'Jan', 'surname': 'Kowalski', 'age': 34, 'hair color': 'brown'}\n",
            "dict_keys(['name', 'surname', 'age', 'hair color'])\n",
            "dict_values(['Adam', 'Kowalski', 34, 'brown'])\n"
          ]
        }
      ]
    },
    {
      "cell_type": "markdown",
      "source": [
        "### 🔍 Instrukcje warunkowe\n",
        "Wykorzystując funkcje warunkowe możemy sprawić, że dany kod zostanie wykonany tylko jeżeli zostaną spełnione zdefiniowane przez nas warunki.\n",
        "\n",
        "Instrukcji wartunkowych używamy poprzez użycie słowa kluczowowego ```if```."
      ],
      "metadata": {
        "id": "FxnsXa0ExjUa"
      }
    },
    {
      "cell_type": "code",
      "source": [
        "# Tworzenie słownika\n",
        "language = \"pl\"\n",
        "\n",
        "if language == \"pl\":\n",
        "  print(\"Witaj świecie!\")"
      ],
      "metadata": {
        "colab": {
          "base_uri": "https://localhost:8080/"
        },
        "id": "y7TBFPQDSHt9",
        "outputId": "eb666877-318b-41e7-d4e3-299daebc35dc"
      },
      "execution_count": null,
      "outputs": [
        {
          "output_type": "stream",
          "name": "stdout",
          "text": [
            "Witaj świecie!\n"
          ]
        }
      ]
    },
    {
      "cell_type": "markdown",
      "source": [
        "W funkcji warunkowej możemy stworzyć dodatkowe warunki przy użyciu ```elif```."
      ],
      "metadata": {
        "id": "BpH8yLEhSG4F"
      }
    },
    {
      "cell_type": "code",
      "source": [
        "language = \"en\"\n",
        "\n",
        "if language == \"pl\":\n",
        "  print(\"Witaj świecie!\")\n",
        "elif language == \"en\":\n",
        "  print(\"Hello Wordl!\")\n",
        "else:\n",
        "  print(\"Nieprzewidziany przypadek\")"
      ],
      "metadata": {
        "id": "IvXo3XrbbP5h",
        "colab": {
          "base_uri": "https://localhost:8080/"
        },
        "outputId": "b7e968ee-af5e-45f9-9fa8-082f1de2311a"
      },
      "execution_count": null,
      "outputs": [
        {
          "output_type": "stream",
          "name": "stdout",
          "text": [
            "Hello Wordl!\n"
          ]
        }
      ]
    },
    {
      "cell_type": "markdown",
      "source": [
        "Należy jednak pamiętać, że po spełnieniu jakiegokolwiek z warunków, dalsze warunki zawarte w ```elif``` oraz ```else``` nie są sprawdzanie."
      ],
      "metadata": {
        "id": "GRUM6M5HTyF9"
      }
    },
    {
      "cell_type": "code",
      "source": [
        "languages = ['en', 'pl']\n",
        "\n",
        "if 'pl' in languages:\n",
        "  print(\"Witaj świecie!\")\n",
        "elif 'en' in languages:\n",
        "  print(\"Hello world!\")\n",
        "else:\n",
        "  print(\"Nieprzewidziany wypadek\")"
      ],
      "metadata": {
        "colab": {
          "base_uri": "https://localhost:8080/"
        },
        "id": "MheJqwtwUdH7",
        "outputId": "94e3ddb1-1e9d-4281-939e-775622011435"
      },
      "execution_count": null,
      "outputs": [
        {
          "output_type": "stream",
          "name": "stdout",
          "text": [
            "Witaj świecie!\n"
          ]
        }
      ]
    },
    {
      "cell_type": "markdown",
      "source": [
        "Wszystkie warunki zawarte w instrukcjach warunkowych przybierają wartość typu ```bool```. Podobnie jak w przedstawionych wyżej przykładowych operacjach na zmiennych boolowskich wyrażenia można łączyć za pomocą operatorów logicznych."
      ],
      "metadata": {
        "id": "qyNCA7qYU7W9"
      }
    },
    {
      "cell_type": "code",
      "source": [
        "temperature = 10\n",
        "weather = \"rainy\"\n",
        "\n",
        "if(temperature > 20 and weather == \"sunny\"):\n",
        "  print(\"Jest ciepło\")\n",
        "elif(temperature < 0 and weather == \"rainy\"):\n",
        "  print(\"Jest ślizgo\")\n",
        "elif(temperature > 0 and weather == \"rainy\" and temperature < 15):\n",
        "  print(\"Jest zimno i mokro\")"
      ],
      "metadata": {
        "colab": {
          "base_uri": "https://localhost:8080/"
        },
        "id": "tLYK65UtXdva",
        "outputId": "6063ed64-4a71-44a6-8ad7-826d2f395f56"
      },
      "execution_count": null,
      "outputs": [
        {
          "output_type": "stream",
          "name": "stdout",
          "text": [
            "Jest zimno i mokro\n"
          ]
        }
      ]
    },
    {
      "cell_type": "markdown",
      "source": [
        "Instrukcje warunkowe mogą być zagnieżdżone. Umożliwia to zwiększenie opcji w ramach każdego warunku. Wcięcia rozróżniają który kawałek kodu przynależy do odpowiedniego warunku."
      ],
      "metadata": {
        "id": "i4w2scU8XLL8"
      }
    },
    {
      "cell_type": "code",
      "source": [
        "score = 82\n",
        "max_score = 120\n",
        "\n",
        "percent = score/max_score * 100\n",
        "\n",
        "if(percent > 30):\n",
        "  print(\"Zdałeś\")\n",
        "\n",
        "  if(percent > 90):\n",
        "    print(\"Dostajesz 5\")\n",
        "\n",
        "  elif(percent > 80):\n",
        "    print(\"Dostajesz 4\")\n",
        "\n",
        "  elif(percent > 30):\n",
        "    print(\"Dostajesz 3\")\n",
        "    \n",
        "else:\n",
        "  print(\"Nie zdałeś\")"
      ],
      "metadata": {
        "colab": {
          "base_uri": "https://localhost:8080/"
        },
        "id": "V-cL288UW4ud",
        "outputId": "6465b143-7e4f-49a3-ef2e-0ff7b28047bb"
      },
      "execution_count": null,
      "outputs": [
        {
          "output_type": "stream",
          "name": "stdout",
          "text": [
            "Zdałeś\n",
            "Dostajesz 3\n"
          ]
        }
      ]
    },
    {
      "cell_type": "markdown",
      "source": [
        "\n",
        "## 🏠 Zadania - Termin 07.04.2023 - Tworzymy pliku TXT (UTF-8) i kopiujemy do niego kody. Ten wplik wraz z Notebookiem archiwizujemy i wgrywamy w CloudA. Dodatkowo udosępniamy PUBLICZNIE link do notebooka i dajemy go w kometarzu do zadania."
      ],
      "metadata": {
        "id": "wQvEd5qNf5Lx"
      }
    },
    {
      "cell_type": "markdown",
      "source": [
        "### Zadanie 1 - 2 punkty"
      ],
      "metadata": {
        "id": "IlPVeNj1p8IC"
      }
    },
    {
      "cell_type": "markdown",
      "source": [
        "Wykonaj poniższe działania\n",
        "\n",
        "\n",
        "---\n",
        "\n",
        "\n",
        "a)\tDo zmiennej a przypisz liczbę 9000, a następnie ją wyświetl.\n",
        "\n",
        "\n",
        "---\n",
        "\n",
        "\n",
        "b)\tDo zmiennej b przypisz swoje imię, a następnie ją wyświetl.\n",
        "\n",
        "\n",
        "---\n",
        "\n",
        "\n",
        "c)\tDo zmiennej a przypisz swoje imię, do zmiennej b nazwisko, a do zmiennej c numer indexu, złącz wszystkie napisy razem.\n",
        "\n",
        "\n",
        "---\n",
        "\n",
        "\n",
        "d)\tDo zmiennej x przypisz dowolne słowo, spraw, aby zostało wyświetlone 6 razy.\n",
        "\n",
        "\n",
        "---\n",
        "\n",
        "\n",
        "e)\tWykonaj mnożenie dowolnych trzech liczb, spraw, aby wynik wyświetlił się tekstowo.\n",
        "\n",
        "\n",
        "---\n",
        "\n",
        "\n",
        "f)\tdo zmiennej x przypisz dowolne minimum 10 literowe słowo. Z tego słowa wyświetl piątą literkę.\n",
        "\n",
        "\n",
        "---\n",
        "\n",
        "\n",
        "g)\tdo zmiennej x przypisz dowolne minimum 10 literowe słowo. Z tego słowa wyświetl wszystkie literki znajdujące się za trzecią literką.\n",
        "\n",
        "\n",
        "---\n",
        "\n",
        "\n",
        "h)\tdo zmiennej x przypisz dowolne minimum 10 literowe słowo. Z tego słowa wyświetl literki znajdujące się między drugą a siódmą.\n",
        "\n",
        "\n",
        "---\n",
        "\n",
        "\n",
        "i)\tdo zmiennej x przypisz dowolne minimum 10 literowe słowo. Z tego słowa wyświetl wszystkie literki poza dwiema ostatnimi.\n",
        "\n",
        "\n",
        "---\n",
        "\n",
        "\n",
        "j)\tDo zmiennych a, b i c przypisz dowolne liczby, wyświetl je.\n",
        "\n",
        "\n",
        "---\n",
        "\n",
        "\n",
        "k)\tNa liczbach z poprzedniego punktu wykonaj podstawowe obliczenia: dodawanie, odejmowanie, mnożenie i dzielenie\n",
        "\n",
        "\n",
        "---\n",
        "\n",
        "\n",
        "l)\tStwórz listę ulubionych czterech dań i wyświetl ją.\n",
        "\n",
        "\n",
        "---\n",
        "\n",
        "\n",
        "m)\tDo listy z poprzedniego punktu odpowiednim skryptem dodaj nazwy czterech napojów.\n",
        "\n",
        "\n",
        "---\n",
        "\n",
        "\n",
        "n)\tPosortuj listę z poprzedniego punktu.\n",
        "\n",
        "\n",
        "---\n",
        "\n",
        "\n",
        "o)\tStwórz dwie tablice, nazwij je dowolnie, jedna niech zawiera liczby od 1 do 10, a druga od 11 do 20. Połącz ze sobą te dwie listy. Za pomocą len(nazwa_tablicy) policz ilość elementów zapisanych w tablicy.\n"
      ],
      "metadata": {
        "id": "zXZgCn5fp7dG"
      }
    },
    {
      "cell_type": "code",
      "source": [
        "# a) Do zmiennej a przypisz liczbę 9000, a następnie ją wyświetl.\n",
        "a = 9000\n",
        "print(a)\n",
        "\n",
        "# b) Do zmiennej b przypisz swoje imię, a następnie ją wyświetl.\n",
        "b = \"Tomasz\"\n",
        "print(b)\n",
        "\n",
        "# c) Do zmiennej a przypisz swoje imię, do zmiennej b nazwisko, a do zmiennej c numer indexu, złącz wszystkie napisy razem.\n",
        "a = \"Tomasz\"\n",
        "b = \"Maka\"\n",
        "c = \"17167\"\n",
        "print(a + b + c)\n",
        "\n",
        "# d) Do zmiennej x przypisz dowolne słowo, spraw, aby zostało wyświetlone 6 razy.\n",
        "x = \"Python\"\n",
        "print(x * 6)\n",
        "\n",
        "# e) Wykonaj mnożenie dowolnych trzech liczb, spraw, aby wynik wyświetlił się tekstowo.\n",
        "liczba1 = 3\n",
        "liczba2 = 4\n",
        "liczba3 = 5\n",
        "wynik = liczba1 * liczba2 * liczba3\n",
        "print(f\"Wynik mnożenia: {wynik}\")\n",
        "\n",
        "# f) do zmiennej x przypisz dowolne minimum 10 literowe słowo. Z tego słowa wyświetl piątą literkę.\n",
        "x = \"programista\"\n",
        "print(x[4])\n",
        "\n",
        "# g) do zmiennej x przypisz dowolne minimum 10 literowe słowo. Z tego słowa wyświetl wszystkie literki znajdujące się za trzecią literką.\n",
        "x = \"informatyka\"\n",
        "print(x[3:])\n",
        "\n",
        "# h) do zmiennej x przypisz dowolne minimum 10 literowe słowo. Z tego słowa wyświetl literki znajdujące się między drugą a siódmą.\n",
        "x = \"matematyka\"\n",
        "print(x[1:7])\n",
        "\n",
        "# i) do zmiennej x przypisz dowolne minimum 10 literowe słowo. Z tego słowa wyświetl wszystkie literki poza dwiema ostatnimi.\n",
        "x = \"statystyka\"\n",
        "print(x[:-2])\n",
        "\n",
        "# j) Do zmiennych a, b i c przypisz dowolne liczby, wyświetl je.\n",
        "a, b, c = 7, 14, 21\n",
        "print(a, b, c)\n",
        "\n",
        "# k) Na liczbach z poprzedniego punktu wykonaj podstawowe obliczenia: dodawanie, odejmowanie, mnożenie i dzielenie\n",
        "print(a + b + c)\n",
        "print(a - b - c)\n",
        "print(a * b * c)\n",
        "print(a / b / c)\n",
        "\n",
        "# l) Stwórz listę ulubionych czterech dań i wyświetl ją.\n",
        "ulubione_dania = [\"schabowy\", \"spaghetti\", \"sushi\", \"pizza\"]\n",
        "print(ulubione_dania)\n",
        "\n",
        "# m) Do listy z poprzedniego punktu odpowiednim skryptem dodaj nazwy czterech napojów.\n",
        "napoje = [\"kawa\", \"herbata\", \"cola\", \"woda\"]\n",
        "ulubione_dania.extend(napoje)\n",
        "print(ulubione_dania)\n",
        "\n",
        "# n) Posortuj listę z poprzedniego punktu.\n",
        "ulubione_dania.sort()\n",
        "print(ulubione_dania)\n",
        "\n",
        "# o) Stwórz dwie tablice, nazwij je dowolnie, jedna niech zawiera liczby od 1 do 10, a druga od 11 do 20. \n",
        "# Połącz ze sobą te dwie listy. Za pomocą len(nazwa_tablicy) policz ilość elementów zapisanych w tablicy.\n",
        "tablica1 = list(range(1, 11))\n",
        "tablica2 = list(range(11, 21))\n",
        "polaczone_tablice = tablica1 + tablica2\n",
        "print(polaczone_tablice)\n",
        "print(f\"Ilość elementów w połączonej tablicy: {len(polaczone_tablice)}\")\n"
      ],
      "metadata": {
        "id": "8UJYp3OPO7-V",
        "colab": {
          "base_uri": "https://localhost:8080/"
        },
        "outputId": "c32bf681-2c86-41fe-81be-031c28ce7e7c"
      },
      "execution_count": 1,
      "outputs": [
        {
          "output_type": "stream",
          "name": "stdout",
          "text": [
            "9000\n",
            "Tomasz\n",
            "TomaszMaka17167\n",
            "PythonPythonPythonPythonPythonPython\n",
            "Wynik mnożenia: 60\n",
            "r\n",
            "ormatyka\n",
            "atemat\n",
            "statysty\n",
            "7 14 21\n",
            "42\n",
            "-28\n",
            "2058\n",
            "0.023809523809523808\n",
            "['schabowy', 'spaghetti', 'sushi', 'pizza']\n",
            "['schabowy', 'spaghetti', 'sushi', 'pizza', 'kawa', 'herbata', 'cola', 'woda']\n",
            "['cola', 'herbata', 'kawa', 'pizza', 'schabowy', 'spaghetti', 'sushi', 'woda']\n",
            "[1, 2, 3, 4, 5, 6, 7, 8, 9, 10, 11, 12, 13, 14, 15, 16, 17, 18, 19, 20]\n",
            "Ilość elementów w połączonej tablicy: 20\n"
          ]
        }
      ]
    },
    {
      "cell_type": "markdown",
      "source": [
        "### Zadanie 2 - 2 punkty\n",
        "Napisz program, który pobierze od użytkownika 3 linijki w postaci \"klucz,wartość\". Na podstawie otrzymanych danych utwórz słownik."
      ],
      "metadata": {
        "id": "92gIBXYqgAZY"
      }
    },
    {
      "cell_type": "code",
      "source": [
        "# Miejsce na eksperymenty\n",
        "# Pobieranie danych od użytkownika\n",
        "name = input(\"Podaj swoje imię: \")\n",
        "surname = input(\"Podaj swoje nazwisko: \")\n",
        "age = input(\"Podaj swój wiek: \")\n",
        "\n",
        "# Tworzenie słownika\n",
        "user_data = {\n",
        "    'name': name,\n",
        "    'surname': surname,\n",
        "    'age': age\n",
        "}\n",
        "\n",
        "# Wyświetlanie kluczy i wartości słownika\n",
        "print(user_data.keys())\n",
        "print(user_data.values())"
      ],
      "metadata": {
        "id": "KYqmNMwjgAE-",
        "colab": {
          "base_uri": "https://localhost:8080/"
        },
        "outputId": "391339df-3b7f-40c5-cae8-ed996a35d410"
      },
      "execution_count": null,
      "outputs": [
        {
          "output_type": "stream",
          "name": "stdout",
          "text": [
            "Podaj swoje imię: Tomasz\n",
            "Podaj swoje nazwisko: Maka\n",
            "Podaj swój wiek: 46\n",
            "dict_keys(['name', 'surname', 'age'])\n",
            "dict_values(['Tomasz', 'Maka', '46'])\n"
          ]
        }
      ]
    },
    {
      "cell_type": "markdown",
      "source": [
        "### Zadanie 3 - 2 punkty\n",
        "Napisz program, który pobierze od użytkownika dzień, miesiąc oraz rok jego narodzin. Sprawdź czy podana data jest poprawna. \n",
        "- w przypadku poprawnej daty oceń, czy dana osoba jest pełnoletnia\n",
        "- w przypadku niepoprawnej daty zwróć informację o niepoprawnych danych"
      ],
      "metadata": {
        "id": "jW25S6Huf_ib"
      }
    },
    {
      "cell_type": "code",
      "source": [
        "# Miejsce na eksperymenty\n",
        "from datetime import datetime\n",
        "\n",
        "def is_leap_year(year):\n",
        "    return year % 4 == 0 and (year % 100 != 0 or year % 400 == 0)\n",
        "\n",
        "def is_valid_date(day, month, year):\n",
        "    if month < 1 or month > 12 or year < 1:\n",
        "        return False\n",
        "\n",
        "    days_in_month = [31, 28, 31, 30, 31, 30, 31, 31, 30, 31, 30, 31]\n",
        "    if is_leap_year(year):\n",
        "        days_in_month[1] = 29\n",
        "\n",
        "    return 1 <= day <= days_in_month[month - 1]\n",
        "\n",
        "def is_adult(birthdate, today):\n",
        "    age = today.year - birthdate.year - ((today.month, today.day) < (birthdate.month, birthdate.day))\n",
        "    return age >= 18\n",
        "\n",
        "# Pobieranie danych od użytkownika\n",
        "day = int(input(\"Podaj dzień urodzenia: \"))\n",
        "month = int(input(\"Podaj miesiąc urodzenia: \"))\n",
        "year = int(input(\"Podaj rok urodzenia: \"))\n",
        "\n",
        "# Sprawdzanie poprawności daty\n",
        "if is_valid_date(day, month, year):\n",
        "    birthdate = datetime(year, month, day)\n",
        "    today = datetime.today()\n",
        "\n",
        "    if is_adult(birthdate, today):\n",
        "        print(\"Osoba jest pełnoletnia.\")\n",
        "    else:\n",
        "        print(\"Osoba nie jest pełnoletnia.\")\n",
        "else:\n",
        "    print(\"Podano niepoprawną datę.\")\n"
      ],
      "metadata": {
        "id": "WnHbqf7rgAmM",
        "colab": {
          "base_uri": "https://localhost:8080/"
        },
        "outputId": "423afc05-f93f-4710-dfe0-b3d713475b5d"
      },
      "execution_count": null,
      "outputs": [
        {
          "output_type": "stream",
          "name": "stdout",
          "text": [
            "Podaj dzień urodzenia: 88\n",
            "Podaj miesiąc urodzenia: 44\n",
            "Podaj rok urodzenia: 1111\n",
            "Podano niepoprawną datę.\n"
          ]
        }
      ]
    },
    {
      "cell_type": "markdown",
      "source": [
        "### Zadanie 4 - 4 punkty\n",
        "Napisz program, który na podstawie liczby podanej przez użytkownika zwraca informację o tym, czy liczba jest parzysta oraz czy jest podzielna przez 3 albo 5."
      ],
      "metadata": {
        "id": "N2j1eX5wgCJI"
      }
    },
    {
      "cell_type": "code",
      "source": [
        "# Miejsce na eksperymenty\n",
        "# Pobieranie liczby od użytkownika\n",
        "liczba = int(input(\"Podaj liczbę: \"))\n",
        "\n",
        "# Sprawdzanie, czy liczba jest parzysta\n",
        "if liczba % 2 == 0:\n",
        "    print(\"Liczba jest parzysta.\")\n",
        "else:\n",
        "    print(\"Liczba jest nieparzysta.\")\n",
        "\n",
        "# Sprawdzanie, czy liczba jest podzielna przez 3 lub 5\n",
        "if liczba % 3 == 0 or liczba % 5 == 0:\n",
        "    print(\"Liczba jest podzielna przez 3 lub 5.\")\n",
        "else:\n",
        "    print(\"Liczba nie jest podzielna przez 3 ani 5.\")"
      ],
      "metadata": {
        "id": "jkthdEUOgCl2",
        "colab": {
          "base_uri": "https://localhost:8080/"
        },
        "outputId": "fa458f6b-055d-4120-bb8d-00f78066c30d"
      },
      "execution_count": null,
      "outputs": [
        {
          "output_type": "stream",
          "name": "stdout",
          "text": [
            "Podaj liczbę: 15\n",
            "Liczba jest nieparzysta.\n",
            "Liczba jest podzielna przez 3 lub 5.\n"
          ]
        }
      ]
    },
    {
      "cell_type": "markdown",
      "source": [
        "# 📃 Źródła\n",
        "- https://docs.python.org/pl/3/index.html\n",
        "- https://python101.readthedocs.io/pl/py3/index.html\n",
        "- https://realpython.com/python-f-strings/\n",
        "- https://www.programiz.com/python-programming/list\n",
        "- https://kamil.kwapisz.pl/nauka-podstaw-python-typy-danych/\n",
        "- https://hostovita.pl/blog/instrukcje-warunkowe-python-3/\n",
        "- https://www.w3schools.com/"
      ],
      "metadata": {
        "id": "AVpHiplqEava"
      }
    }
  ]
}